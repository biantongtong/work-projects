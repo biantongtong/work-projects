{
 "cells": [
  {
   "cell_type": "markdown",
   "metadata": {
    "cell_style": "split",
    "toc": true
   },
   "source": [
    "<h1>搜索推荐181120～181126数据分析<span class=\"tocSkip\"></span></h1>\n",
    "<div class=\"toc\"><ul class=\"toc-item\"><li><span><a href=\"#目录1\" data-toc-modified-id=\"目录1-1\"><span class=\"toc-item-num\">1&nbsp;&nbsp;</span>目录1</a></span><ul class=\"toc-item\"><li><span><a href=\"#读取show事件和click事件文件数据\" data-toc-modified-id=\"读取show事件和click事件文件数据-1.1\"><span class=\"toc-item-num\">1.1&nbsp;&nbsp;</span><a href=\"#the_childproject\">读取show事件和click事件文件数据</a></a></span></li><li><span><a href=\"#各个子项目说明\" data-toc-modified-id=\"各个子项目说明-1.2\"><span class=\"toc-item-num\">1.2&nbsp;&nbsp;</span><a href=\"#the_childproject\">各个子项目说明</a></a></span></li><li><span><a href=\"#show事件轨迹和click事件轨迹关联聚合\" data-toc-modified-id=\"show事件轨迹和click事件轨迹关联聚合-1.3\"><span class=\"toc-item-num\">1.3&nbsp;&nbsp;</span><a href=\"#the_childproject\">show事件轨迹和click事件轨迹关联聚合</a></a></span><ul class=\"toc-item\"><li><span><a href=\"#搜索推荐的点击率\" data-toc-modified-id=\"搜索推荐的点击率-1.3.1\"><span class=\"toc-item-num\">1.3.1&nbsp;&nbsp;</span>搜索推荐的点击率</a></span></li><li><span><a href=\"#默认火车票点击率\" data-toc-modified-id=\"默认火车票点击率-1.3.2\"><span class=\"toc-item-num\">1.3.2&nbsp;&nbsp;</span>默认火车票点击率</a></span></li><li><span><a href=\"#默认特价机票的点击率\" data-toc-modified-id=\"默认特价机票的点击率-1.3.3\"><span class=\"toc-item-num\">1.3.3&nbsp;&nbsp;</span>默认特价机票的点击率</a></span></li><li><span><a href=\"#默认特价酒店/附近酒店的点击率\" data-toc-modified-id=\"默认特价酒店/附近酒店的点击率-1.3.4\"><span class=\"toc-item-num\">1.3.4&nbsp;&nbsp;</span>默认特价酒店/附近酒店的点击率</a></span></li><li><span><a href=\"#各个推荐项目在不同项目推荐前提下的点击率\" data-toc-modified-id=\"各个推荐项目在不同项目推荐前提下的点击率-1.3.5\"><span class=\"toc-item-num\">1.3.5&nbsp;&nbsp;</span>各个推荐项目在不同项目推荐前提下的点击率</a></span><ul class=\"toc-item\"><li><span><a href=\"#各个项目的点击率\" data-toc-modified-id=\"各个项目的点击率-1.3.5.1\"><span class=\"toc-item-num\">1.3.5.1&nbsp;&nbsp;</span>各个项目的点击率</a></span></li><li><span><a href=\"#各个子项目的点击率\" data-toc-modified-id=\"各个子项目的点击率-1.3.5.2\"><span class=\"toc-item-num\">1.3.5.2&nbsp;&nbsp;</span>各个子项目的点击率</a></span></li><li><span><a href=\"#各个项目推荐的对应项目的点击率\" data-toc-modified-id=\"各个项目推荐的对应项目的点击率-1.3.5.3\"><span class=\"toc-item-num\">1.3.5.3&nbsp;&nbsp;</span>各个项目推荐的对应项目的点击率</a></span></li><li><span><a href=\"#各个项目推荐对应子项目的点击率\" data-toc-modified-id=\"各个项目推荐对应子项目的点击率-1.3.5.4\"><span class=\"toc-item-num\">1.3.5.4&nbsp;&nbsp;</span>各个项目推荐对应子项目的点击率</a></span></li></ul></li><li><span><a href=\"#各个项目指标汇总\" data-toc-modified-id=\"各个项目指标汇总-1.3.6\"><span class=\"toc-item-num\">1.3.6&nbsp;&nbsp;</span>各个项目指标汇总</a></span><ul class=\"toc-item\"><li><span><a href=\"#各个项目的点击率汇总\" data-toc-modified-id=\"各个项目的点击率汇总-1.3.6.1\"><span class=\"toc-item-num\">1.3.6.1&nbsp;&nbsp;</span>各个项目的点击率汇总</a></span></li><li><span><a href=\"#各个项目显示数量和点击占比\" data-toc-modified-id=\"各个项目显示数量和点击占比-1.3.6.2\"><span class=\"toc-item-num\">1.3.6.2&nbsp;&nbsp;</span>各个项目显示数量和点击占比</a></span></li></ul></li></ul></li></ul></li></ul></div>"
   ]
  },
  {
   "cell_type": "markdown",
   "metadata": {},
   "source": [
    "## 目录1"
   ]
  },
  {
   "cell_type": "code",
   "execution_count": 292,
   "metadata": {},
   "outputs": [],
   "source": [
    "import pandas as pd\n",
    "import numpy as np\n",
    "import matplotlib as mpl\n",
    "import matplotlib.pyplot as plot\n",
    "import codecs\n",
    "mpl.rcParams['axes.unicode_minus'] = False\n",
    "mpl.rcParams['font.sans-serif'] = 'SimHei'\n",
    "%matplotlib inline"
   ]
  },
  {
   "cell_type": "markdown",
   "metadata": {},
   "source": [
    "### [读取show事件和click事件文件数据](#the_childproject)"
   ]
  },
  {
   "cell_type": "code",
   "execution_count": 293,
   "metadata": {},
   "outputs": [
    {
     "name": "stdout",
     "output_type": "stream",
     "text": [
      "搜索推荐show事件信息：\n",
      "\n",
      "                                    pjid       pgpath                cttp  \\\n",
      "0                 train,flight,hotel,bus  /homepage/2       54,64,191,111   \n",
      "1  train,flight,hotel,flight,train,train  /homepage/0  54,64,191,61,51,52   \n",
      "\n",
      "    os                                           rcmdtype  \\\n",
      "0  2.0      finderdefalut,finderdefalut,finderdefalut,bus   \n",
      "1  1.0  finderdefalut,finderdefalut,finderdefalut,flig...   \n",
      "\n",
      "                         openid  loccid  \\\n",
      "0  o498X0Q-0Zv7bHoE1pB4sZOWO01Y     NaN   \n",
      "1  o498X0Q-1NCcteYne2KrsB3LBavo   264.0   \n",
      "\n",
      "                                                  k                 time  \n",
      "0                           火车票,特价机票,附近酒店,上海到北京的汽车票  2018-11-26 05:41:26  \n",
      "1  火车票,特价机票,附近酒店,呼和浩特到赣州的机票,呼和浩特到赣州的火车票,赣州到呼和浩特的火车票  2018-11-23 11:27:35  \n",
      "搜索推荐click事件信息：\n",
      "\n"
     ]
    },
    {
     "data": {
      "text/html": [
       "<div>\n",
       "<style scoped>\n",
       "    .dataframe tbody tr th:only-of-type {\n",
       "        vertical-align: middle;\n",
       "    }\n",
       "\n",
       "    .dataframe tbody tr th {\n",
       "        vertical-align: top;\n",
       "    }\n",
       "\n",
       "    .dataframe thead th {\n",
       "        text-align: right;\n",
       "    }\n",
       "</style>\n",
       "<table border=\"1\" class=\"dataframe\">\n",
       "  <thead>\n",
       "    <tr style=\"text-align: right;\">\n",
       "      <th></th>\n",
       "      <th>ct</th>\n",
       "      <th>pjid</th>\n",
       "      <th>pgpath</th>\n",
       "      <th>cttp</th>\n",
       "      <th>os</th>\n",
       "      <th>rcmdtype</th>\n",
       "      <th>pos</th>\n",
       "      <th>openid</th>\n",
       "      <th>loccid</th>\n",
       "      <th>time</th>\n",
       "    </tr>\n",
       "  </thead>\n",
       "  <tbody>\n",
       "    <tr>\n",
       "      <th>0</th>\n",
       "      <td>特价机票</td>\n",
       "      <td>flight</td>\n",
       "      <td>/homepage/1</td>\n",
       "      <td>64</td>\n",
       "      <td>1</td>\n",
       "      <td>finderdefalut</td>\n",
       "      <td>1</td>\n",
       "      <td>o498X0Q-zL144EvGh2ARXWa2gIRM</td>\n",
       "      <td>NaN</td>\n",
       "      <td>2018-11-20 12:23:07</td>\n",
       "    </tr>\n",
       "    <tr>\n",
       "      <th>1</th>\n",
       "      <td>附近酒店</td>\n",
       "      <td>hotel</td>\n",
       "      <td>/homepage/0</td>\n",
       "      <td>191</td>\n",
       "      <td>1</td>\n",
       "      <td>finderdefalut</td>\n",
       "      <td>2</td>\n",
       "      <td>o498X0Q0AunSeHLvUKlkmaJzrUso</td>\n",
       "      <td>NaN</td>\n",
       "      <td>2018-11-24 21:32:15</td>\n",
       "    </tr>\n",
       "  </tbody>\n",
       "</table>\n",
       "</div>"
      ],
      "text/plain": [
       "     ct    pjid       pgpath  cttp  os       rcmdtype  pos  \\\n",
       "0  特价机票  flight  /homepage/1    64   1  finderdefalut    1   \n",
       "1  附近酒店   hotel  /homepage/0   191   1  finderdefalut    2   \n",
       "\n",
       "                         openid  loccid                 time  \n",
       "0  o498X0Q-zL144EvGh2ARXWa2gIRM     NaN  2018-11-20 12:23:07  \n",
       "1  o498X0Q0AunSeHLvUKlkmaJzrUso     NaN  2018-11-24 21:32:15  "
      ]
     },
     "execution_count": 293,
     "metadata": {},
     "output_type": "execute_result"
    }
   ],
   "source": [
    "show_event = pd.read_csv('showtable.csv',encoding='gbk')\n",
    "click_event= pd.read_csv('clicktable.csv',encoding='gbk')\n",
    "print('搜索推荐show事件信息：\\n')\n",
    "print(show_event.head(2))\n",
    "print('搜索推荐click事件信息：\\n')\n",
    "click_event.head(2)"
   ]
  },
  {
   "cell_type": "markdown",
   "metadata": {},
   "source": [
    "### [各个子项目说明](#the_childproject)\n",
    "* 1：酒店单凭  13：区县酒店 16：城市酒店 51：火车  52：返程火车  54：默认火车票入口  61：国内机票  62：返程国内机票  \n",
    "* 64：默认热加机票入口  71：国际机票  81：单景区  82：城市景区 111：汽车票 112：汽车票返程 140：A到B的全部交通 \n",
    "* 191：默认附近酒店入口 192：默认特价酒店入口"
   ]
  },
  {
   "cell_type": "code",
   "execution_count": 294,
   "metadata": {},
   "outputs": [
    {
     "name": "stdout",
     "output_type": "stream",
     "text": [
      "一共包含 7 种项目，分别是:\n",
      "['bus' 'flight' 'hotel' 'iflight' 'scenery' 'traffic' 'train']\n"
     ]
    }
   ],
   "source": [
    "## 查看点击里面所有项目分类\n",
    "categories=np.unique(click_event['pjid'])\n",
    "print(\"一共包含 {} 种项目，分别是:\\n{}\".format(len(categories),categories))"
   ]
  },
  {
   "cell_type": "code",
   "execution_count": 295,
   "metadata": {},
   "outputs": [
    {
     "name": "stdout",
     "output_type": "stream",
     "text": [
      "一共包含 12 种推荐项目，分别是:\n",
      "['bus' 'finderdefalut' 'flight' 'global_bus' 'global_flight'\n",
      " 'global_hotel' 'global_scenery' 'global_train' 'hotel' 'iflight'\n",
      " 'scenery' 'train']\n"
     ]
    }
   ],
   "source": [
    "## 查看点击里面所有推荐项目分类\n",
    "categories=np.unique(click_event['rcmdtype'])\n",
    "print(\"一共包含 {} 种推荐项目，分别是:\\n{}\".format(len(categories),categories))"
   ]
  },
  {
   "cell_type": "code",
   "execution_count": 296,
   "metadata": {},
   "outputs": [
    {
     "name": "stdout",
     "output_type": "stream",
     "text": [
      "一共包含 17 种子项目，分别是:\n",
      "[  1  11  16  51  52  54  61  62  64  71  81  82 111 112 140 191 192]\n"
     ]
    }
   ],
   "source": [
    "## 查看点击里面所有子项目分类\n",
    "categories=np.unique(click_event['cttp'])\n",
    "print(\"一共包含 {} 种子项目，分别是:\\n{}\".format(len(categories),categories))"
   ]
  },
  {
   "cell_type": "markdown",
   "metadata": {},
   "source": [
    "### [show事件轨迹和click事件轨迹关联聚合](#the_childproject)"
   ]
  },
  {
   "cell_type": "markdown",
   "metadata": {},
   "source": [
    "#### 搜索推荐的点击率"
   ]
  },
  {
   "cell_type": "code",
   "execution_count": 297,
   "metadata": {},
   "outputs": [
    {
     "name": "stdout",
     "output_type": "stream",
     "text": [
      "7天内搜索推荐点击率是：12.67%\n"
     ]
    }
   ],
   "source": [
    "show_count = show_event['openid'].count()\n",
    "click_count = click_event['openid'].count()\n",
    "total_rate = click_count/show_count\n",
    "print('7天内搜索推荐点击率是：{}'.format(\"%.2f%%\" % ((total_rate) * 100)))"
   ]
  },
  {
   "cell_type": "markdown",
   "metadata": {},
   "source": [
    "#### 默认火车票点击率"
   ]
  },
  {
   "cell_type": "code",
   "execution_count": 298,
   "metadata": {},
   "outputs": [
    {
     "name": "stdout",
     "output_type": "stream",
     "text": [
      "7天内默认火车票总的显示的次数是：32027\n",
      "7天内所有用户总的点击次数是：4058\n",
      "7天内默认火车票的点击次数是：1734\n",
      "7天内默认火车票的点击率：5.41%\n",
      "7天内默认火车票的点击占比：42.73%\n"
     ]
    },
    {
     "name": "stderr",
     "output_type": "stream",
     "text": [
      "/Users/dreams/anaconda3/lib/python3.6/site-packages/ipykernel/__main__.py:3: UserWarning: Boolean Series key will be reindexed to match DataFrame index.\n",
      "  app.launch_new_instance()\n"
     ]
    }
   ],
   "source": [
    "print('7天内默认火车票总的显示的次数是：{}'.format(show_count))\n",
    "print('7天内所有用户总的点击次数是：{}'.format(click_count))\n",
    "click_count_defaulttrain = click_event[click_event['rcmdtype']=='finderdefalut'][click_event['cttp']==54]['openid'].count()\n",
    "print('7天内默认火车票的点击次数是：{}'.format(click_count_defaulttrain))\n",
    "train_rate = click_count_defaulttrain/show_count\n",
    "train_account = click_count_defaulttrain/click_count\n",
    "print('7天内默认火车票的点击率：{}'.format(\"%.2f%%\" % ((train_rate) * 100)))\n",
    "print('7天内默认火车票的点击占比：{}'.format( \"%.2f%%\" % ((train_account) * 100)))"
   ]
  },
  {
   "cell_type": "markdown",
   "metadata": {},
   "source": [
    "#### 默认特价机票的点击率"
   ]
  },
  {
   "cell_type": "code",
   "execution_count": 299,
   "metadata": {},
   "outputs": [
    {
     "name": "stdout",
     "output_type": "stream",
     "text": [
      "7天内默认特价机票总的显示的次数是：32027\n",
      "7天内所有用户总的点击次数是：4058\n",
      "7天内特价机票的点击次数是：960\n",
      "7天内特价机票的点击率：3.00%\n",
      "7天内特价机票的点击占比：23.66%\n"
     ]
    },
    {
     "name": "stderr",
     "output_type": "stream",
     "text": [
      "/Users/dreams/anaconda3/lib/python3.6/site-packages/ipykernel/__main__.py:3: UserWarning: Boolean Series key will be reindexed to match DataFrame index.\n",
      "  app.launch_new_instance()\n"
     ]
    }
   ],
   "source": [
    "print('7天内默认特价机票总的显示的次数是：{}'.format(show_count))\n",
    "print('7天内所有用户总的点击次数是：{}'.format(click_count))\n",
    "click_count_defaultflight = click_event[click_event['rcmdtype']=='finderdefalut'][click_event['cttp']==64]['openid'].count()\n",
    "print('7天内特价机票的点击次数是：{}'.format(click_count_defaultflight))\n",
    "flight_rate = click_count_defaultflight/show_count\n",
    "flight_account = click_count_defaultflight/click_count\n",
    "print('7天内特价机票的点击率：{}'.format(\"%.2f%%\" % ((flight_rate) * 100)))\n",
    "print('7天内特价机票的点击占比：{}'.format(\"%.2f%%\" % ((flight_account) * 100)))"
   ]
  },
  {
   "cell_type": "markdown",
   "metadata": {},
   "source": [
    "#### 默认特价酒店/附近酒店的点击率"
   ]
  },
  {
   "cell_type": "code",
   "execution_count": 300,
   "metadata": {
    "scrolled": true
   },
   "outputs": [
    {
     "name": "stdout",
     "output_type": "stream",
     "text": [
      "默认特价酒店总的显示的次数是：3025\n",
      "默认附近酒店总的显示的次数是：29002\n",
      "7天内所有用户总的点击次数是：4058\n",
      "7天内附近酒店的点击次数是：289\n",
      "7天内特价酒店的点击次数是：30\n",
      "7天内附近酒店的点击率：0.90%\n",
      "7天内附近酒店的点击占比：7.12%\n",
      "7天内特价酒店的点击率：0.09%\n",
      "7天内特价酒店的点击占比：0.74%\n"
     ]
    },
    {
     "name": "stderr",
     "output_type": "stream",
     "text": [
      "/Users/dreams/anaconda3/lib/python3.6/site-packages/ipykernel/__main__.py:6: UserWarning: Boolean Series key will be reindexed to match DataFrame index.\n",
      "/Users/dreams/anaconda3/lib/python3.6/site-packages/ipykernel/__main__.py:9: UserWarning: Boolean Series key will be reindexed to match DataFrame index.\n"
     ]
    }
   ],
   "source": [
    "from collections import Counter\n",
    "project_showcount = pd.Series(show_event['cttp'].str.split(',').map(Counter).sum())\n",
    "print('默认特价酒店总的显示的次数是：{}'.format(project_showcount['192']))\n",
    "print('默认附近酒店总的显示的次数是：{}'.format(project_showcount['191']))\n",
    "print('7天内所有用户总的点击次数是：{}'.format(click_count))\n",
    "click_count_defaultfnearhotel = click_event[click_event['rcmdtype']=='finderdefalut'][click_event['cttp']==191]['openid'].count()\n",
    "print('7天内附近酒店的点击次数是：{}'.format(click_count_defaultfnearhotel))\n",
    "\n",
    "click_count_defaultfspechotel = click_event[click_event['rcmdtype']=='finderdefalut'][click_event['cttp']==192]['openid'].count()\n",
    "print('7天内特价酒店的点击次数是：{}'.format(click_count_defaultfspechotel))\n",
    "\n",
    "nearhotel_rate = click_count_defaultfnearhotel/show_count\n",
    "nearhotel_account = click_count_defaultfnearhotel/click_count\n",
    "print('7天内附近酒店的点击率：{}'.format(\"%.2f%%\" % ((nearhotel_rate) * 100)))\n",
    "print('7天内附近酒店的点击占比：{}'.format(\"%.2f%%\" % ((nearhotel_account) * 100)))\n",
    "spec_rate = click_count_defaultfspechotel/show_count\n",
    "spec_account = click_count_defaultfspechotel/click_count\n",
    "print('7天内特价酒店的点击率：{}'.format(\"%.2f%%\" % ((spec_rate) * 100)))\n",
    "print('7天内特价酒店的点击占比：{}'.format(\"%.2f%%\" % ((spec_account) * 100)))"
   ]
  },
  {
   "cell_type": "markdown",
   "metadata": {},
   "source": [
    "#### 各个推荐项目在不同项目推荐前提下的点击率"
   ]
  },
  {
   "cell_type": "code",
   "execution_count": 301,
   "metadata": {},
   "outputs": [
    {
     "name": "stdout",
     "output_type": "stream",
     "text": [
      "默认进来有轨迹的推荐的用户数：\n",
      "32021\n"
     ]
    }
   ],
   "source": [
    "from collections import Counter\n",
    "def make_repeater(x):\n",
    "    for key in x.keys():\n",
    "        x[key] =1\n",
    "    return x\n",
    "show_rec_event = show_event[show_event['rcmdtype']!='finderdefalut,finderdefalut,finderdefalut']\n",
    "show_rec_count = show_rec_event['openid'].count()\n",
    "print('默认进来有轨迹的推荐的用户数：')\n",
    "print(show_rec_count)"
   ]
  },
  {
   "cell_type": "markdown",
   "metadata": {},
   "source": [
    "##### 各个项目的点击率"
   ]
  },
  {
   "cell_type": "code",
   "execution_count": 302,
   "metadata": {},
   "outputs": [
    {
     "name": "stderr",
     "output_type": "stream",
     "text": [
      "/Users/dreams/anaconda3/lib/python3.6/site-packages/ipykernel/__main__.py:1: SettingWithCopyWarning: \n",
      "A value is trying to be set on a copy of a slice from a DataFrame.\n",
      "Try using .loc[row_indexer,col_indexer] = value instead\n",
      "\n",
      "See the caveats in the documentation: http://pandas.pydata.org/pandas-docs/stable/indexing.html#indexing-view-versus-copy\n",
      "  if __name__ == '__main__':\n"
     ]
    },
    {
     "name": "stdout",
     "output_type": "stream",
     "text": [
      "各个项目详细的点击率：\n",
      "bus          2.96\n",
      "iflight      1.81\n",
      "traffic      1.50\n",
      "flight       1.28\n",
      "hotel        1.26\n",
      "train        1.12\n",
      "scenery      0.24\n",
      "intlhotel    0.00\n",
      "dtype: float64\n",
      "-----------------------------------------------------------------------------------\n",
      "各个项目的点击率：\n",
      "bus          3.98\n",
      "train        1.84\n",
      "iflight      1.81\n",
      "traffic      1.50\n",
      "hotel        1.50\n",
      "flight       1.49\n",
      "scenery      0.24\n",
      "intlhotel    0.00\n",
      "dtype: float64\n"
     ]
    },
    {
     "data": {
      "text/plain": [
       "<matplotlib.axes._subplots.AxesSubplot at 0x125f79240>"
      ]
     },
     "execution_count": 302,
     "metadata": {},
     "output_type": "execute_result"
    },
    {
     "name": "stderr",
     "output_type": "stream",
     "text": [
      "/Users/dreams/anaconda3/lib/python3.6/site-packages/matplotlib/font_manager.py:1328: UserWarning: findfont: Font family ['sans-serif'] not found. Falling back to DejaVu Sans\n",
      "  (prop.get_family(), self.defaultFamily[fontext]))\n"
     ]
    },
    {
     "data": {
      "image/png": "[encoded data removed]",
      "text/plain": [
       "<Figure size 720x576 with 1 Axes>"
      ]
     },
     "metadata": {},
     "output_type": "display_data"
    }
   ],
   "source": [
    "show_rec_event['pjid_new'] = show_rec_event['pjid'].map(lambda x:x.replace('train,flight,hotel,',''))\n",
    "#print('各个推荐项目详细总的显示的次数：')\n",
    "recprojectdetail_showcount = pd.Series( show_rec_event['pjid_new'].str.split(',').map(Counter).sum())\n",
    "#print(recprojectdetail_showcount)\n",
    "#print('各个推荐项目总的显示的次数：')\n",
    "recproject_showcount = pd.Series(show_rec_event['pjid_new'].str.split(',').map(Counter).map(lambda x:make_repeater(x)).sum())\n",
    "#print(recproject_showcount)\n",
    "#print('各个推荐项目总的点击的次数：')\n",
    "recproject_clickcount = pd.Series(click_event[click_event['rcmdtype']!='finderdefalut']['pjid'].str.split(',').map(Counter).sum())\n",
    "#print(recproject_clickcount)\n",
    "\n",
    "recprojectdetail_rate = (recproject_clickcount/recprojectdetail_showcount).map(lambda x:round(x,4)*100)\n",
    "recprojectdetail_rate.fillna(0,inplace=True)\n",
    "recprojectdetail_rate.sort_values(inplace=True,ascending=False)\n",
    "print('各个项目详细的点击率：')\n",
    "print(recprojectdetail_rate)\n",
    "print('-----------------------------------------------------------------------------------')\n",
    "recproject_rate = (recproject_clickcount/recproject_showcount).map(lambda x:round(x,4)*100)\n",
    "recproject_rate.fillna(0,inplace=True)\n",
    "recproject_rate.sort_values(inplace=True,ascending=False)\n",
    "print('各个项目的点击率：')\n",
    "print(recproject_rate)\n",
    "pd.DataFrame({'recprojectdetail_rate':recprojectdetail_rate,'recproject_rate':recproject_rate}).plot(kind='bar',title='The rate of every proejct',figsize=(10,8),fontsize=20,table=True)"
   ]
  },
  {
   "cell_type": "markdown",
   "metadata": {},
   "source": [
    "##### 各个子项目的点击率"
   ]
  },
  {
   "cell_type": "code",
   "execution_count": 304,
   "metadata": {},
   "outputs": [
    {
     "name": "stderr",
     "output_type": "stream",
     "text": [
      "/Users/dreams/anaconda3/lib/python3.6/site-packages/ipykernel/__main__.py:1: SettingWithCopyWarning: \n",
      "A value is trying to be set on a copy of a slice from a DataFrame.\n",
      "Try using .loc[row_indexer,col_indexer] = value instead\n",
      "\n",
      "See the caveats in the documentation: http://pandas.pydata.org/pandas-docs/stable/indexing.html#indexing-view-versus-copy\n",
      "  if __name__ == '__main__':\n"
     ]
    },
    {
     "name": "stdout",
     "output_type": "stream",
     "text": [
      "各个子项目详细的点击率：\n",
      "1-酒店单品        4.03\n",
      "111-汽车票       3.97\n",
      "11-酒店poi      3.70\n",
      "81-景区单品       3.03\n",
      "71-国际机票       1.81\n",
      "51-火车票        1.56\n",
      "140-推荐全部交通    1.50\n",
      "61-国内机票       1.38\n",
      "62-返程国内机票     0.79\n",
      "112-返程汽车票     0.71\n",
      "16-国内城市酒店     0.60\n",
      "52-返程火车票      0.57\n",
      "82-城市景区       0.17\n",
      "131-国际城市酒店    0.00\n",
      "130-国际酒店单品    0.00\n",
      "13-区县酒店       0.00\n",
      "Name: a1, dtype: float64\n",
      "-----------------------------------------------------------------------------------\n",
      "各个子项目的点击率：\n",
      "1-酒店单品        4.25\n",
      "111-汽车票       3.97\n",
      "11-酒店poi      3.70\n",
      "81-景区单品       3.45\n",
      "71-国际机票       1.81\n",
      "51-火车票        1.56\n",
      "140-推荐全部交通    1.50\n",
      "61-国内机票       1.39\n",
      "62-返程国内机票     0.79\n",
      "112-返程汽车票     0.71\n",
      "16-国内城市酒店     0.61\n",
      "52-返程火车票      0.57\n",
      "82-城市景区       0.17\n",
      "131-国际城市酒店    0.00\n",
      "130-国际酒店单品    0.00\n",
      "13-区县酒店       0.00\n",
      "Name: a1, dtype: float64\n"
     ]
    },
    {
     "data": {
      "text/plain": [
       "<matplotlib.axes._subplots.AxesSubplot at 0x127156128>"
      ]
     },
     "execution_count": 304,
     "metadata": {},
     "output_type": "execute_result"
    },
    {
     "name": "stderr",
     "output_type": "stream",
     "text": [
      "/Users/dreams/anaconda3/lib/python3.6/site-packages/matplotlib/font_manager.py:1328: UserWarning: findfont: Font family ['sans-serif'] not found. Falling back to DejaVu Sans\n",
      "  (prop.get_family(), self.defaultFamily[fontext]))\n"
     ]
    },
    {
     "data": {
      "image/png": "[encoded data removed]",
      "text/plain": [
       "<Figure size 720x576 with 1 Axes>"
      ]
     },
     "metadata": {},
     "output_type": "display_data"
    }
   ],
   "source": [
    "show_rec_event['cttp_new'] = show_rec_event['cttp'].map(lambda x:x.replace('54,64,191,','').replace('54,64,192,',''))\n",
    "#print(show_event['cttp_new'].head(2))\n",
    "#print('各个推荐子项目详细总的显示的次数：')\n",
    "recchildprojectdetail_showcount = pd.Series(show_rec_event['cttp_new'].str.split(',').map(Counter).sum())\n",
    "#print(recchildprojectdetail_showcount)\n",
    "#print('各个推荐子项目总的显示的次数：')\n",
    "recchildproject_showcount = pd.Series(show_rec_event['cttp_new'].str.split(',').map(Counter).map(lambda x:make_repeater(x)).sum())\n",
    "#print(recchildproject_showcount)\n",
    "#print('各个推荐子项目总的点击的次数：')\n",
    "recchildproject_clickcount = pd.Series(click_event[click_event['rcmdtype']!='finderdefalut']['cttp'].astype(str).str.split(',').map(Counter).sum())\n",
    "#print(recchildproject_clickcount)\n",
    "\n",
    "recchildprojectdetail_rate = (recchildproject_clickcount/recchildprojectdetail_showcount).map(lambda x:round(x,4)*100)\n",
    "recchildprojectdetail_rate.fillna(0,inplace=True)\n",
    "#recchildprojectdetail_rate.rename(index={'1':'HOTEL','11':'HOTEL_POI','111':'BUS','112':'BUS_BAK','13':'HOTEL_SECTION','130':'INTLHOTEL','131':'INTLHOTEL_CITY','140':'TRAFFIC','16':'HOTEL_CITY','192':'HOTEL_SPEC_DEFAULT','51':'TRAIN','52':'TRAIN_BAK','54':'TRAIN_DEFAULT','61':'INLAND_AIR','62':'INLAND_AIR_BAK','64':'FLIGHT_SPEC_DEFAULT','71':'ABROAD_AIR','81':'SCENERY_SINGLE','82':'SCENERY_CITY'},inplace=True)\n",
    "recchildprojectdetail_rate.sort_values(inplace=True,ascending=False)\n",
    "recchildprojectdetail_rate_temp= pd.DataFrame({'a1':recchildprojectdetail_rate})\n",
    "recchildprojectdetail_rate_temp.rename(index={'1':'1-酒店单品','11':'11-酒店poi','111':'111-汽车票','112':'112-返程汽车票','13':'13-区县酒店','130':'130-国际酒店单品','131':'131-国际城市酒店','140':'140-推荐全部交通','16':'16-国内城市酒店','192':'192-特价酒店','51':'51-火车票','52':'52-返程火车票','54':'54-默认火车票入口','61':'61-国内机票','62':'62-返程国内机票','64':'64-特价机票','71':'71-国际机票','81':'81-景区单品','82':'82-城市景区'},inplace=True)\n",
    "print('各个子项目详细的点击率：')\n",
    "print(recchildprojectdetail_rate_temp['a1'])\n",
    "print('-----------------------------------------------------------------------------------')\n",
    "recchildproject_rate = (recchildproject_clickcount/recchildproject_showcount).map(lambda x:round(x,4)*100)\n",
    "recchildproject_rate.fillna(0,inplace=True)\n",
    "#recchildproject_rate.rename(index={'1':'酒店单品','11':'HOTEL_POI','poi附近的酒店':'BUS','112':'BUS_BAK','13':'HOTEL_SECTION','130':'INTLHOTEL','131':'INTLHOTEL_CITY','140':'TRAFFIC','16':'HOTEL_CITY','192':'HOTEL_SPEC_DEFAULT','51':'TRAIN','52':'TRAIN_BAK','54':'TRAIN_DEFAULT','61':'INLAND_AIR','62':'INLAND_AIR_BAK','64':'FLIGHT_SPEC_DEFAULT','71':'ABROAD_AIR','81':'SCENERY_SINGLE','82':'SCENERY_CITY'},inplace=True)\n",
    "recchildproject_rate.sort_values(inplace=True,ascending=False)\n",
    "recchildproject_rate_temp= pd.DataFrame({'a1':recchildproject_rate})\n",
    "recchildproject_rate_temp.rename(index={'1':'1-酒店单品','11':'11-酒店poi','111':'111-汽车票','112':'112-返程汽车票','13':'13-区县酒店','130':'130-国际酒店单品','131':'131-国际城市酒店','140':'140-推荐全部交通','16':'16-国内城市酒店','192':'192-特价酒店','51':'51-火车票','52':'52-返程火车票','54':'54-默认火车票入口','61':'61-国内机票','62':'62-返程国内机票','64':'64-特价机票','71':'71-国际机票','81':'81-景区单品','82':'82-城市景区'},inplace=True)\n",
    "print('各个子项目的点击率：')\n",
    "print(recchildproject_rate_temp['a1'])\n",
    "pd.DataFrame({'recchildprojectdetail_rate':recchildprojectdetail_rate,'recchildproject_rate':recchildproject_rate}).plot(kind='bar',title='The rate of every child proejct',figsize=(10,8),fontsize=20,table=True)"
   ]
  },
  {
   "cell_type": "markdown",
   "metadata": {},
   "source": [
    "##### 各个项目推荐的对应项目的点击率"
   ]
  },
  {
   "cell_type": "code",
   "execution_count": 305,
   "metadata": {},
   "outputs": [
    {
     "name": "stdout",
     "output_type": "stream",
     "text": [
      "各个推项目总的显示的次数\n"
     ]
    }
   ],
   "source": [
    "print('各个推项目总的显示的次数')\n",
    "show_event['rcmdtype_new'] = show_event['rcmdtype'].map(lambda x:x.replace('finderdefalut,finderdefalut,finderdefalut,',''))"
   ]
  },
  {
   "cell_type": "markdown",
   "metadata": {},
   "source": [
    "##### 各个项目推荐对应子项目的点击率"
   ]
  },
  {
   "cell_type": "code",
   "execution_count": null,
   "metadata": {},
   "outputs": [],
   "source": []
  },
  {
   "cell_type": "markdown",
   "metadata": {},
   "source": [
    "#### 各个项目指标汇总"
   ]
  },
  {
   "cell_type": "markdown",
   "metadata": {},
   "source": [
    "##### 各个项目的点击率汇总"
   ]
  },
  {
   "cell_type": "code",
   "execution_count": 306,
   "metadata": {},
   "outputs": [
    {
     "name": "stdout",
     "output_type": "stream",
     "text": [
      "total_rate      12.67\n",
      "defaulttrain     5.41\n",
      "1-酒店单品           4.03\n",
      "111-汽车票          3.97\n",
      "11-酒店poi         3.70\n",
      "81-景区单品          3.03\n",
      "specflight       3.00\n",
      "71-国际机票          1.81\n",
      "51-火车票           1.56\n",
      "140-推荐全部交通       1.50\n",
      "61-国内机票          1.38\n",
      "nearhotel        0.90\n",
      "62-返程国内机票        0.79\n",
      "112-返程汽车票        0.71\n",
      "16-国内城市酒店        0.60\n",
      "52-返程火车票         0.57\n",
      "82-城市景区          0.17\n",
      "spechotel        0.09\n",
      "130-国际酒店单品       0.00\n",
      "131-国际城市酒店       0.00\n",
      "13-区县酒店          0.00\n",
      "dtype: float64\n"
     ]
    },
    {
     "data": {
      "text/plain": [
       "<matplotlib.axes._subplots.AxesSubplot at 0x12709c6a0>"
      ]
     },
     "execution_count": 306,
     "metadata": {},
     "output_type": "execute_result"
    },
    {
     "name": "stderr",
     "output_type": "stream",
     "text": [
      "/Users/dreams/anaconda3/lib/python3.6/site-packages/matplotlib/font_manager.py:1328: UserWarning: findfont: Font family ['sans-serif'] not found. Falling back to DejaVu Sans\n",
      "  (prop.get_family(), self.defaultFamily[fontext]))\n"
     ]
    },
    {
     "data": {
      "image/png": "[encoded data removed]",
      "text/plain": [
       "<Figure size 720x576 with 1 Axes>"
      ]
     },
     "metadata": {},
     "output_type": "display_data"
    }
   ],
   "source": [
    "ser1=pd.Series({'total_rate':round(total_rate,4)*100,'defaulttrain':round(train_rate,4)*100,'specflight':round(flight_rate,4)*100,'nearhotel':round(nearhotel_rate,4)*100,'spechotel':round(spec_rate,4)*100})\n",
    "ser_bar = pd.concat([ser1,recchildprojectdetail_rate])\n",
    "ser_bar.sort_values(inplace=True,ascending=False)\n",
    "ser_bar_temp = pd.concat([ser1,recchildprojectdetail_rate_temp['a1']])\n",
    "ser_bar_temp.sort_values(inplace=True,ascending=False)\n",
    "print(ser_bar_temp)\n",
    "pd.DataFrame({'project_name':ser_bar}).plot(kind='bar',title='The rate of every proejct',figsize=(10,8),fontsize=20,table=True)"
   ]
  },
  {
   "cell_type": "markdown",
   "metadata": {},
   "source": [
    "##### 各个项目显示数量和点击占比"
   ]
  },
  {
   "cell_type": "code",
   "execution_count": 307,
   "metadata": {
    "scrolled": true
   },
   "outputs": [
    {
     "name": "stdout",
     "output_type": "stream",
     "text": [
      "各个推荐子项目详细总的显示的次数：\n",
      "defaulttrain    32027\n",
      "specflight      32027\n",
      "nearhotel       29002\n",
      "61-国内机票         19787\n",
      "51-火车票          18764\n",
      "52-返程火车票        15065\n",
      "16-国内城市酒店       11905\n",
      "62-返程国内机票        3943\n",
      "111-汽车票          3452\n",
      "spechotel        3025\n",
      "82-城市景区          2904\n",
      "1-酒店单品           2831\n",
      "112-返程汽车票        1549\n",
      "140-推荐全部交通        798\n",
      "71-国际机票           441\n",
      "131-国际城市酒店        234\n",
      "130-国际酒店单品         85\n",
      "81-景区单品            66\n",
      "13-区县酒店            60\n",
      "11-酒店poi           27\n",
      "Name: a1, dtype: int64\n",
      "-------------------------------------------------------------------------------------\n",
      "各个项目的点击次数：\n",
      "defaulttrain    1734\n",
      "specflight       960\n",
      "51-火车票           293\n",
      "nearhotel        289\n",
      "61-国内机票          273\n",
      "111-汽车票          137\n",
      "1-酒店单品           114\n",
      "52-返程火车票          86\n",
      "16-国内城市酒店         72\n",
      "62-返程国内机票         31\n",
      "spechotel         30\n",
      "140-推荐全部交通        12\n",
      "112-返程汽车票         11\n",
      "71-国际机票            8\n",
      "82-城市景区            5\n",
      "81-景区单品            2\n",
      "11-酒店poi           1\n",
      "Name: a1, dtype: int64\n"
     ]
    },
    {
     "name": "stderr",
     "output_type": "stream",
     "text": [
      "/Users/dreams/anaconda3/lib/python3.6/site-packages/matplotlib/font_manager.py:1328: UserWarning: findfont: Font family ['sans-serif'] not found. Falling back to DejaVu Sans\n",
      "  (prop.get_family(), self.defaultFamily[fontext]))\n"
     ]
    },
    {
     "data": {
      "image/png": "[encoded data removed]",
      "text/plain": [
       "<Figure size 432x288 with 1 Axes>"
      ]
     },
     "metadata": {},
     "output_type": "display_data"
    }
   ],
   "source": [
    "print('各个推荐子项目详细总的显示的次数：')\n",
    "ser_pie_show = pd.concat([pd.Series({'defaulttrain':show_count,'specflight':show_count,'nearhotel':project_showcount['191'],'spechotel':project_showcount['192']}),recchildprojectdetail_showcount])\n",
    "ser_pie_show.sort_values(inplace=True,ascending=False)\n",
    "recchildprojectdetail_showcount_temp= pd.DataFrame({'a1':ser_pie_show})\n",
    "recchildprojectdetail_showcount_temp.rename(index={'1':'1-酒店单品','11':'11-酒店poi','111':'111-汽车票','112':'112-返程汽车票','13':'13-区县酒店','130':'130-国际酒店单品','131':'131-国际城市酒店','140':'140-推荐全部交通','16':'16-国内城市酒店','192':'192-特价酒店','51':'51-火车票','52':'52-返程火车票','54':'54-默认火车票入口','61':'61-国内机票','62':'62-返程国内机票','64':'64-特价机票','71':'71-国际机票','81':'81-景区单品','82':'82-城市景区'},inplace=True)\n",
    "print(recchildprojectdetail_showcount_temp['a1'])\n",
    "print('-------------------------------------------------------------------------------------')\n",
    "print('各个项目的点击次数：')\n",
    "ser2 = pd.Series({'defaulttrain':click_count_defaulttrain,'specflight':click_count_defaultflight,'nearhotel':click_count_defaultfnearhotel,'spechotel':click_count_defaultfspechotel})\n",
    "ser_pie = pd.concat([ser2,recchildproject_clickcount])\n",
    "ser_pie.sort_values(inplace=True,ascending=False)\n",
    "ser_pie_temp= pd.DataFrame({'a1':ser_pie})\n",
    "ser_pie_temp.rename(index={'1':'1-酒店单品','11':'11-酒店poi','111':'111-汽车票','112':'112-返程汽车票','13':'13-区县酒店','130':'130-国际酒店单品','131':'131-国际城市酒店','140':'140-推荐全部交通','16':'16-国内城市酒店','192':'192-特价酒店','51':'51-火车票','52':'52-返程火车票','54':'54-默认火车票入口','61':'61-国内机票','62':'62-返程国内机票','64':'64-特价机票','71':'71-国际机票','81':'81-景区单品','82':'82-城市景区'},inplace=True)\n",
    "print(ser_pie_temp['a1'])\n",
    "fig = plot.figure()\n",
    "plot.pie(ser_pie,labels=ser_pie.index,autopct='%1.2f%%',colors=('b', 'g', 'r', 'c', 'm', 'y', 'k', 'w'),radius=2,) #画饼图（数据，数据对应的标签，百分数保留两位小数点）\n",
    "plot.title(\"The account of every proejct\") \n",
    "plot.show()  "
   ]
  },
  {
   "cell_type": "code",
   "execution_count": null,
   "metadata": {},
   "outputs": [],
   "source": []
  }
 ],
 "metadata": {
  "kernelspec": {
   "display_name": "Python [conda env:anaconda3]",
   "language": "python",
   "name": "conda-env-anaconda3-py"
  },
  "language_info": {
   "codemirror_mode": {
    "name": "ipython",
    "version": 3
   },
   "file_extension": ".py",
   "mimetype": "text/x-python",
   "name": "python",
   "nbconvert_exporter": "python",
   "pygments_lexer": "ipython3",
   "version": "3.6.5"
  },
  "toc": {
   "base_numbering": 1,
   "nav_menu": {
    "height": "224px",
    "width": "300px"
   },
   "number_sections": true,
   "sideBar": true,
   "skip_h1_title": true,
   "title_cell": "搜索推荐181120～181126数据分析",
   "title_sidebar": "Contents",
   "toc_cell": true,
   "toc_position": {
    "height": "428px",
    "left": "173px",
    "top": "67.95833587646484px",
    "width": "303px"
   },
   "toc_section_display": true,
   "toc_window_display": true
  },
  "varInspector": {
   "cols": {
    "lenName": 16,
    "lenType": 16,
    "lenVar": 40
   },
   "kernels_config": {
    "python": {
     "delete_cmd_postfix": "",
     "delete_cmd_prefix": "del ",
     "library": "var_list.py",
     "varRefreshCmd": "print(var_dic_list())"
    },
    "r": {
     "delete_cmd_postfix": ") ",
     "delete_cmd_prefix": "rm(",
     "library": "var_list.r",
     "varRefreshCmd": "cat(var_dic_list()) "
    }
   },
   "oldHeight": 122.33333325386047,
   "position": {
    "height": "145px",
    "left": "31.66666603088379px",
    "right": "1480px",
    "top": "97px",
    "width": "351px"
   },
   "types_to_exclude": [
    "module",
    "function",
    "builtin_function_or_method",
    "instance",
    "_Feature"
   ],
   "varInspector_section_display": "block",
   "window_display": false
  }
 },
 "nbformat": 4,
 "nbformat_minor": 2
}
